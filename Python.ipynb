{
 "cells": [
  {
   "cell_type": "markdown",
   "id": "3003045a",
   "metadata": {},
   "source": [
    "### Question 1\n",
    "\n",
    "1.Write an efficient algorithm that searches for a value target in an m x n integer matrix. This matrix has the following properties:\n",
    "\n",
    "Integers in each row are sorted from right to left.\n",
    "\n",
    "The first integer of each row is greater than the last integer of the previous row.\n",
    "\n",
    "Example-: \n",
    " Input: matrix = [[1,3,5,7],[10,11,16,20],[23,30,34,60]], target = 3\n",
    "\n",
    "                                         Output: True\n"
   ]
  },
  {
   "cell_type": "code",
   "execution_count": 2,
   "id": "386562a0",
   "metadata": {},
   "outputs": [],
   "source": [
    "def search_matrix(matrix, target):\n",
    "    if not matrix or not matrix[0]:\n",
    "        return False\n",
    "    \n",
    "    rows, cols = len(matrix), len(matrix[0])\n",
    "    left, right = 0, rows * cols - 1\n",
    "\n",
    "    while left <= right:\n",
    "        mid = (left + right) // 2\n",
    "        mid_value = matrix[mid // cols][mid % cols]\n",
    "\n",
    "        if mid_value == target:\n",
    "            return True\n",
    "        elif mid_value < target:\n",
    "            left = mid + 1\n",
    "        else:\n",
    "            right = mid - 1\n",
    "\n",
    "    return False\n"
   ]
  },
  {
   "cell_type": "code",
   "execution_count": 3,
   "id": "4feb1cbc",
   "metadata": {},
   "outputs": [
    {
     "name": "stdout",
     "output_type": "stream",
     "text": [
      "True\n"
     ]
    }
   ],
   "source": [
    "# Example usage\n",
    "matrix = [[1, 3, 5, 7], [10, 11, 16, 20], [23, 30, 34, 60]]\n",
    "target = 3\n",
    "output = search_matrix(matrix, target)\n",
    "print(output)"
   ]
  },
  {
   "cell_type": "markdown",
   "id": "28b6fc93",
   "metadata": {},
   "source": [
    "### Question: 2\n",
    "\n",
    "2.  Write a program that takes a string as input, and counts the frequency of each word in the string, there might  be repeated characters in the string. Your task is to find the highest frequency and returns the length of the  highest-frequency word. \n",
    "\n",
    "Note - You have to write at least 2 additional test cases in which your program will run successfully and provide  an explanation for the same.  \n",
    "\n",
    "Example input - string = “write write write all the number from from from 1 to 100” \n",
    "\n",
    "Example output - 5 \n",
    "\n",
    "Explanation - From the given string we can note that the most frequent words are “write” and “from” and  the maximum value of both the values is “write” and its corresponding length is 5 \n",
    "\n"
   ]
  },
  {
   "cell_type": "code",
   "execution_count": null,
   "id": "f1265409",
   "metadata": {},
   "outputs": [],
   "source": []
  },
  {
   "cell_type": "markdown",
   "id": "71c547bb",
   "metadata": {},
   "source": [
    "The Counter class in Python, part of the collections module, is a specialized container data type used for counting the occurrences of elements in an iterable or a sequence (e.g., a list, tuple, string). "
   ]
  },
  {
   "cell_type": "code",
   "execution_count": 4,
   "id": "3c435b52",
   "metadata": {},
   "outputs": [],
   "source": [
    "from collections import Counter\n",
    "\n",
    "def highest_frequency_word_length(s):\n",
    "    words = s.split()\n",
    "    word_counts = Counter(words)\n",
    "\n",
    "    if not word_counts:\n",
    "        return 0\n",
    "\n",
    "    max_word = max(word_counts, key=word_counts.get)\n",
    "    max_word_length = len(max_word)\n",
    "    \n",
    "    return max_word_length\n",
    "\n",
    "\n"
   ]
  },
  {
   "cell_type": "code",
   "execution_count": 5,
   "id": "dc4f8f85",
   "metadata": {},
   "outputs": [
    {
     "name": "stdout",
     "output_type": "stream",
     "text": [
      "5\n"
     ]
    }
   ],
   "source": [
    "# Example \n",
    "input_string = \"write write write all the number from from from 1 to 100\"\n",
    "output = highest_frequency_word_length(input_string)\n",
    "print(output) "
   ]
  },
  {
   "cell_type": "code",
   "execution_count": null,
   "id": "8b0b73d4",
   "metadata": {},
   "outputs": [],
   "source": [
    "Explanation for the provided example:\n",
    "\n",
    "The words and their frequencies in the input string are:\n",
    "\"write\": 3 times\n",
    "\"all\": 1 time\n",
    "\"the\": 1 time\n",
    "\"number\": 1 time\n",
    "\"from\": 3 times\n",
    "\"1\": 1 time\n",
    "\"to\": 1 time\n",
    "\"100\": 1 time\n",
    "The word with the highest frequency is \"write\" (3 times), and its length is 5."
   ]
  },
  {
   "cell_type": "code",
   "execution_count": 6,
   "id": "120e8b63",
   "metadata": {},
   "outputs": [
    {
     "name": "stdout",
     "output_type": "stream",
     "text": [
      "6\n"
     ]
    }
   ],
   "source": [
    "# Additional test cases:\n",
    "\n",
    "input_string_1 = \"apple banana apple banana cherry cherry cherry\"\n",
    "output_1 = highest_frequency_word_length(input_string_1)\n",
    "print(output_1)  \n",
    "\n",
    "#Explanation: The word with the highest frequency is \"cherry\" (3 times), and its length is 6."
   ]
  },
  {
   "cell_type": "code",
   "execution_count": 8,
   "id": "170e5ec2",
   "metadata": {},
   "outputs": [
    {
     "name": "stdout",
     "output_type": "stream",
     "text": [
      "11\n"
     ]
    }
   ],
   "source": [
    "# Test Case 2:\n",
    "\n",
    "input_string_2 = \"programming is fun and programming is challenging\"\n",
    "output_2 = highest_frequency_word_length(input_string_2)\n",
    "print(output_2) \n",
    "\n",
    "# Explanation: The words with the highest frequency are \"programming\" and \"is\" (2 times each), and the maximum value is \"programming\" with a length of 11."
   ]
  },
  {
   "cell_type": "code",
   "execution_count": null,
   "id": "3d7f6e05",
   "metadata": {},
   "outputs": [],
   "source": []
  },
  {
   "cell_type": "code",
   "execution_count": null,
   "id": "621d9b14",
   "metadata": {},
   "outputs": [],
   "source": []
  },
  {
   "cell_type": "code",
   "execution_count": null,
   "id": "f1eaeb2b",
   "metadata": {},
   "outputs": [],
   "source": []
  },
  {
   "cell_type": "code",
   "execution_count": null,
   "id": "9cf34e82",
   "metadata": {},
   "outputs": [],
   "source": []
  },
  {
   "cell_type": "code",
   "execution_count": null,
   "id": "96bd43bd",
   "metadata": {},
   "outputs": [],
   "source": []
  }
 ],
 "metadata": {
  "kernelspec": {
   "display_name": "Python 3 (ipykernel)",
   "language": "python",
   "name": "python3"
  },
  "language_info": {
   "codemirror_mode": {
    "name": "ipython",
    "version": 3
   },
   "file_extension": ".py",
   "mimetype": "text/x-python",
   "name": "python",
   "nbconvert_exporter": "python",
   "pygments_lexer": "ipython3",
   "version": "3.10.9"
  }
 },
 "nbformat": 4,
 "nbformat_minor": 5
}
